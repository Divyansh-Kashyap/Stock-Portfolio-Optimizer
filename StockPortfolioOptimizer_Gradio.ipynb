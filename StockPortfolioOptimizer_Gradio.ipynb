{
 "cells": [
  {
   "cell_type": "code",
   "execution_count": 1,
   "id": "924feafa-ca56-40bc-8c3a-46bd866e1126",
   "metadata": {},
   "outputs": [
    {
     "name": "stdout",
     "output_type": "stream",
     "text": [
      "* Running on local URL:  http://127.0.0.1:7860\n",
      "* To create a public link, set `share=True` in `launch()`.\n"
     ]
    },
    {
     "data": {
      "text/html": [
       "<div><iframe src=\"http://127.0.0.1:7860/\" width=\"100%\" height=\"500\" allow=\"autoplay; camera; microphone; clipboard-read; clipboard-write;\" frameborder=\"0\" allowfullscreen></iframe></div>"
      ],
      "text/plain": [
       "<IPython.core.display.HTML object>"
      ]
     },
     "metadata": {},
     "output_type": "display_data"
    }
   ],
   "source": [
    "import gradio as gr\n",
    "import yfinance as yf\n",
    "import numpy as np\n",
    "import pandas as pd\n",
    "import matplotlib.pyplot as plt\n",
    "\n",
    "def fetch_data(tickers, start='2020-01-01', end='2024-12-31'):\n",
    "    data = yf.download(tickers, start=start, end=end, auto_adjust=False)\n",
    "    if len(tickers) == 1:\n",
    "        return data[['Adj Close']].rename(columns={'Adj Close': tickers[0]})\n",
    "    return data['Adj Close']\n",
    "\n",
    "def calculate_returns(data):\n",
    "    daily_returns = data.pct_change().dropna()\n",
    "    annual_returns = daily_returns.mean() * 252\n",
    "    return daily_returns, annual_returns, daily_returns.cov() * 252\n",
    "\n",
    "def portfolio_performance(weights, mean_returns, cov_matrix):\n",
    "    returns = np.dot(weights, mean_returns)\n",
    "    std_dev = np.sqrt(np.dot(weights.T, np.dot(cov_matrix, weights)))\n",
    "    return returns, std_dev\n",
    "\n",
    "def simulate_portfolios(n_portfolios, mean_returns, cov_matrix, risk_free_rate=0.02, max_allocation=1.0):\n",
    "    results = {'Returns': [], 'Volatility': [], 'Sharpe': [], 'Weights': []}\n",
    "    num_assets = len(mean_returns)\n",
    "\n",
    "    for _ in range(n_portfolios):\n",
    "        weights = np.random.random(num_assets)\n",
    "        weights /= np.sum(weights)\n",
    "        if any(weights > max_allocation):\n",
    "            continue\n",
    "        ret, vol = portfolio_performance(weights, mean_returns, cov_matrix)\n",
    "        sharpe = (ret - risk_free_rate) / vol\n",
    "        results['Returns'].append(ret)\n",
    "        results['Volatility'].append(vol)\n",
    "        results['Sharpe'].append(sharpe)\n",
    "        results['Weights'].append(weights)\n",
    "\n",
    "    return pd.DataFrame(results)\n",
    "\n",
    "def plot_efficient_frontier(df):\n",
    "    max_sharpe = df.loc[df['Sharpe'].idxmax()]\n",
    "    plt.figure(figsize=(8, 6))\n",
    "    plt.scatter(df['Volatility'], df['Returns'], c=df['Sharpe'], cmap='viridis')\n",
    "    plt.colorbar(label='Sharpe Ratio')\n",
    "    plt.scatter(max_sharpe['Volatility'], max_sharpe['Returns'], c='red', marker='*', s=200)\n",
    "    plt.title('Efficient Frontier')\n",
    "    plt.xlabel('Volatility (Risk)')\n",
    "    plt.ylabel('Expected Return')\n",
    "    plt.grid(True)\n",
    "    plt.tight_layout()\n",
    "    plot_path = 'efficient_frontier_gradio.png'\n",
    "    plt.savefig(plot_path)\n",
    "    plt.close()\n",
    "    return plot_path\n",
    "\n",
    "def run_optimizer(ticker_input, investment, risk_free_rate, max_alloc):\n",
    "    tickers = [t.strip().upper() for t in ticker_input.split(',')]\n",
    "    data = fetch_data(tickers)\n",
    "    daily_returns, annual_returns, cov_matrix = calculate_returns(data)\n",
    "    df = simulate_portfolios(5000, annual_returns, cov_matrix, risk_free_rate, max_alloc)\n",
    "\n",
    "    max_sharpe = df.loc[df['Sharpe'].idxmax()]\n",
    "    portfolio = pd.DataFrame({\n",
    "        'Ticker': tickers,\n",
    "        'Allocation (%)': [round(w * 100, 2) for w in max_sharpe['Weights']]\n",
    "    })\n",
    "\n",
    "    plot_path = plot_efficient_frontier(df)\n",
    "    summary = f\"\"\"📊 Optimal Portfolio:\n",
    "{portfolio.to_string(index=False)}\n",
    "\n",
    "💰 Expected Return: {round(max_sharpe['Returns']*100, 2)}%\n",
    "📉 Volatility: {round(max_sharpe['Volatility']*100, 2)}%\n",
    "📈 Sharpe Ratio: {round(max_sharpe['Sharpe'], 2)}\n",
    "\"\"\"\n",
    "    return summary, plot_path\n",
    "\n",
    "demo = gr.Interface(\n",
    "    fn=run_optimizer,\n",
    "    inputs=[\n",
    "        gr.Textbox(label=\"Enter stock tickers (comma-separated)\", placeholder=\"e.g. AAPL, MSFT, GOOGL\"),\n",
    "        gr.Number(label=\"Total Investment (Not used, for display only)\", value=100000),\n",
    "        gr.Slider(0.0, 0.1, value=0.02, label=\"Risk-Free Rate (e.g. 0.02 for 2%)\"),\n",
    "        gr.Slider(0.1, 1.0, value=0.4, label=\"Max Allocation Per Stock\")\n",
    "    ],\n",
    "    outputs=[\n",
    "        gr.Textbox(label=\"Optimal Portfolio Summary\"),\n",
    "        gr.Image(type=\"filepath\", label=\"Efficient Frontier Plot\")\n",
    "    ],\n",
    "    title=\"📈 Stock Portfolio Optimizer\",\n",
    "    description=\"Optimize your portfolio using Modern Portfolio Theory and Monte Carlo Simulations.\"\n",
    ")\n",
    "\n",
    "if __name__ == \"__main__\":\n",
    "    demo.launch()"
   ]
  },
  {
   "cell_type": "code",
   "execution_count": null,
   "id": "e26844f5-569a-45c0-8cc7-0f8a38e34c6e",
   "metadata": {},
   "outputs": [],
   "source": []
  }
 ],
 "metadata": {
  "kernelspec": {
   "display_name": "Python 3 (ipykernel)",
   "language": "python",
   "name": "python3"
  },
  "language_info": {
   "codemirror_mode": {
    "name": "ipython",
    "version": 3
   },
   "file_extension": ".py",
   "mimetype": "text/x-python",
   "name": "python",
   "nbconvert_exporter": "python",
   "pygments_lexer": "ipython3",
   "version": "3.12.4"
  }
 },
 "nbformat": 4,
 "nbformat_minor": 5
}
